{
 "cells": [
  {
   "cell_type": "markdown",
   "metadata": {},
   "source": [
    "# German Credit Card Classifier Project"
   ]
  },
  {
   "cell_type": "code",
   "execution_count": 1,
   "metadata": {},
   "outputs": [],
   "source": [
    "FILE_NAME =\"data/german_credit_card.csv\""
   ]
  },
  {
   "cell_type": "code",
   "execution_count": 2,
   "metadata": {},
   "outputs": [
    {
     "name": "stdout",
     "output_type": "stream",
     "text": [
      "(1000, 21)\n",
      "Class=1, Count=700, Percentage=70.000%\n",
      "Class=2, Count=300, Percentage=30.000%\n"
     ]
    }
   ],
   "source": [
    "# load and summarize the dataset\n",
    "from pandas import read_csv\n",
    "from collections import Counter\n",
    "# define the dataset location\n",
    "filename = FILE_NAME\n",
    "# load the csv file as a data frame \n",
    "dataframe = read_csv(filename, header=None) \n",
    "# summarize the shape of the dataset \n",
    "print(dataframe.shape)\n",
    "# summarize the class distribution\n",
    "target = dataframe.values[:,-1]\n",
    "counter = Counter(target)\n",
    "for k,v in counter.items():\n",
    "  per = v / len(target) * 100\n",
    "  print('Class=%d, Count=%d, Percentage=%.3f%%' % (k, v, per))"
   ]
  },
  {
   "cell_type": "code",
   "execution_count": 4,
   "metadata": {},
   "outputs": [
    {
     "data": {
      "image/png": "[encoded data removed]",
      "text/plain": [
       "<Figure size 640x480 with 9 Axes>"
      ]
     },
     "metadata": {},
     "output_type": "display_data"
    }
   ],
   "source": [
    "# create histograms of numeric input variables\n",
    "from pandas import read_csv\n",
    "from matplotlib import pyplot\n",
    "# define the dataset location\n",
    "filename = FILE_NAME\n",
    "# load the csv file as a data frame\n",
    "df = read_csv(filename, header=None)\n",
    "# select columns with numerical data types\n",
    "num_ix = df.select_dtypes(include=['int64', 'float64']).columns \n",
    "# select a subset of the dataframe with the chosen columns \n",
    "subset = df[num_ix]\n",
    "# create a histogram plot of each numeric variable\n",
    "ax = subset.hist()\n",
    "# disable axis labels to avoid the clutter\n",
    "\n",
    "for axis in ax.flatten():\n",
    "  axis.set_xticklabels([])\n",
    "  axis.set_yticklabels([])\n",
    "# show the plot\n",
    "pyplot.show()"
   ]
  },
  {
   "cell_type": "markdown",
   "metadata": {},
   "source": [
    "### Cost(FalseNegatives) > Cost(FalsePositives)"
   ]
  },
  {
   "cell_type": "code",
   "execution_count": 5,
   "metadata": {},
   "outputs": [
    {
     "name": "stdout",
     "output_type": "stream",
     "text": [
      "(1000, 61) (1000,) Counter({0: 700, 1: 300})\n",
      "Mean F2: 0.682 (0.000)\n"
     ]
    }
   ],
   "source": [
    "\n",
    "# test harness and baseline model evaluation for the german credit dataset\n",
    "from collections import Counter\n",
    "from numpy import mean\n",
    "from numpy import std\n",
    "from pandas import read_csv\n",
    "from sklearn.preprocessing import LabelEncoder\n",
    "from sklearn.preprocessing import OneHotEncoder\n",
    "from sklearn.compose import ColumnTransformer\n",
    "from sklearn.model_selection import cross_val_score\n",
    "from sklearn.model_selection import RepeatedStratifiedKFold\n",
    "from sklearn.metrics import fbeta_score\n",
    "from sklearn.metrics import make_scorer\n",
    "from sklearn.dummy import DummyClassifier\n",
    "\n",
    "# load the dataset\n",
    "def load_dataset(full_path):\n",
    "  # load the dataset as a numpy array\n",
    "  dataframe = read_csv(full_path, header=None)\n",
    "  # split into inputs and outputs\n",
    "  last_ix = len(dataframe.columns) - 1\n",
    "  X, y = dataframe.drop(last_ix, axis=1), dataframe[last_ix]\n",
    "  # select categorical features\n",
    "  cat_ix = X.select_dtypes(include=['object', 'bool']).columns\n",
    "  # one hot encode cat features only\n",
    "  ct = ColumnTransformer([('o',OneHotEncoder(),cat_ix)], remainder='passthrough') \n",
    "  X = ct.fit_transform(X)\n",
    "  # label encode the target variable to have the classes 0 and 1\n",
    "  y = LabelEncoder().fit_transform(y)\n",
    "  return X, y\n",
    "\n",
    "  # calculate f2-measure\n",
    "def f2_measure(y_true, y_pred):\n",
    "  return fbeta_score(y_true, y_pred, beta=2)\n",
    "\n",
    "\n",
    "# evaluate a model\n",
    "def evaluate_model(X, y, model):\n",
    "  # define evaluation procedure\n",
    "  cv = RepeatedStratifiedKFold(n_splits=10, n_repeats=3, random_state=1)\n",
    "  # define the model evaluation metric\n",
    "  metric = make_scorer(f2_measure)\n",
    "  # evaluate model\n",
    "  scores = cross_val_score(model, X, y, scoring=metric, cv=cv, n_jobs=-1)\n",
    "  return scores\n",
    "\n",
    "# define the location of the dataset\n",
    "full_path = FILE_NAME\n",
    "# load the dataset\n",
    "X, y = load_dataset(full_path)\n",
    "# summarize the loaded dataset\n",
    "print(X.shape, y.shape, Counter(y))\n",
    "# define the reference model\n",
    "model = DummyClassifier(strategy='constant', constant=1)\n",
    "# evaluate the model\n",
    "scores = evaluate_model(X, y, model)\n",
    "# summarize performance\n",
    "print('Mean F2: %.3f (%.3f)' % (mean(scores), std(scores)))"
   ]
  }
 ],
 "metadata": {
  "kernelspec": {
   "display_name": "machine-learning-env",
   "language": "python",
   "name": "python3"
  },
  "language_info": {
   "codemirror_mode": {
    "name": "ipython",
    "version": 3
   },
   "file_extension": ".py",
   "mimetype": "text/x-python",
   "name": "python",
   "nbconvert_exporter": "python",
   "pygments_lexer": "ipython3",
   "version": "3.8.15"
  }
 },
 "nbformat": 4,
 "nbformat_minor": 2
}
