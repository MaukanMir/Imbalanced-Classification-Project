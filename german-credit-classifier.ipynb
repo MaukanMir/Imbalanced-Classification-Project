{
 "cells": [
  {
   "cell_type": "markdown",
   "metadata": {},
   "source": [
    "# German Credit Card Classifier Project"
   ]
  },
  {
   "cell_type": "code",
   "execution_count": 1,
   "metadata": {},
   "outputs": [],
   "source": [
    "FILE_NAME =\"data/german_credit_card.csv\""
   ]
  },
  {
   "cell_type": "code",
   "execution_count": 2,
   "metadata": {},
   "outputs": [
    {
     "name": "stdout",
     "output_type": "stream",
     "text": [
      "(1000, 21)\n",
      "Class=1, Count=700, Percentage=70.000%\n",
      "Class=2, Count=300, Percentage=30.000%\n"
     ]
    }
   ],
   "source": [
    "# load and summarize the dataset\n",
    "from pandas import read_csv\n",
    "from collections import Counter\n",
    "# define the dataset location\n",
    "filename = FILE_NAME\n",
    "# load the csv file as a data frame \n",
    "dataframe = read_csv(filename, header=None) \n",
    "# summarize the shape of the dataset \n",
    "print(dataframe.shape)\n",
    "# summarize the class distribution\n",
    "target = dataframe.values[:,-1]\n",
    "counter = Counter(target)\n",
    "for k,v in counter.items():\n",
    "  per = v / len(target) * 100\n",
    "  print('Class=%d, Count=%d, Percentage=%.3f%%' % (k, v, per))"
   ]
  },
  {
   "cell_type": "code",
   "execution_count": 4,
   "metadata": {},
   "outputs": [
    {
     "data": {
      "image/png": "[encoded data removed]",
      "text/plain": [
       "<Figure size 640x480 with 9 Axes>"
      ]
     },
     "metadata": {},
     "output_type": "display_data"
    }
   ],
   "source": [
    "# create histograms of numeric input variables\n",
    "from pandas import read_csv\n",
    "from matplotlib import pyplot\n",
    "# define the dataset location\n",
    "filename = FILE_NAME\n",
    "# load the csv file as a data frame\n",
    "df = read_csv(filename, header=None)\n",
    "# select columns with numerical data types\n",
    "num_ix = df.select_dtypes(include=['int64', 'float64']).columns \n",
    "# select a subset of the dataframe with the chosen columns \n",
    "subset = df[num_ix]\n",
    "# create a histogram plot of each numeric variable\n",
    "ax = subset.hist()\n",
    "# disable axis labels to avoid the clutter\n",
    "\n",
    "for axis in ax.flatten():\n",
    "  axis.set_xticklabels([])\n",
    "  axis.set_yticklabels([])\n",
    "# show the plot\n",
    "pyplot.show()"
   ]
  },
  {
   "cell_type": "markdown",
   "metadata": {},
   "source": [
    "### Cost(FalseNegatives) > Cost(FalsePositives)"
   ]
  },
  {
   "cell_type": "code",
   "execution_count": 5,
   "metadata": {},
   "outputs": [
    {
     "name": "stdout",
     "output_type": "stream",
     "text": [
      "(1000, 61) (1000,) Counter({0: 700, 1: 300})\n",
      "Mean F2: 0.682 (0.000)\n"
     ]
    }
   ],
   "source": [
    "\n",
    "# test harness and baseline model evaluation for the german credit dataset\n",
    "from collections import Counter\n",
    "from numpy import mean\n",
    "from numpy import std\n",
    "from pandas import read_csv\n",
    "from sklearn.preprocessing import LabelEncoder\n",
    "from sklearn.preprocessing import OneHotEncoder\n",
    "from sklearn.compose import ColumnTransformer\n",
    "from sklearn.model_selection import cross_val_score\n",
    "from sklearn.model_selection import RepeatedStratifiedKFold\n",
    "from sklearn.metrics import fbeta_score\n",
    "from sklearn.metrics import make_scorer\n",
    "from sklearn.dummy import DummyClassifier\n",
    "\n",
    "# load the dataset\n",
    "def load_dataset(full_path):\n",
    "  # load the dataset as a numpy array\n",
    "  dataframe = read_csv(full_path, header=None)\n",
    "  # split into inputs and outputs\n",
    "  last_ix = len(dataframe.columns) - 1\n",
    "  X, y = dataframe.drop(last_ix, axis=1), dataframe[last_ix]\n",
    "  # select categorical features\n",
    "  cat_ix = X.select_dtypes(include=['object', 'bool']).columns\n",
    "  # one hot encode cat features only\n",
    "  ct = ColumnTransformer([('o',OneHotEncoder(),cat_ix)], remainder='passthrough') \n",
    "  X = ct.fit_transform(X)\n",
    "  # label encode the target variable to have the classes 0 and 1\n",
    "  y = LabelEncoder().fit_transform(y)\n",
    "  return X, y\n",
    "\n",
    "  # calculate f2-measure\n",
    "def f2_measure(y_true, y_pred):\n",
    "  return fbeta_score(y_true, y_pred, beta=2)\n",
    "\n",
    "\n",
    "# evaluate a model\n",
    "def evaluate_model(X, y, model):\n",
    "  # define evaluation procedure\n",
    "  cv = RepeatedStratifiedKFold(n_splits=10, n_repeats=3, random_state=1)\n",
    "  # define the model evaluation metric\n",
    "  metric = make_scorer(f2_measure)\n",
    "  # evaluate model\n",
    "  scores = cross_val_score(model, X, y, scoring=metric, cv=cv, n_jobs=-1)\n",
    "  return scores\n",
    "\n",
    "# define the location of the dataset\n",
    "full_path = FILE_NAME\n",
    "# load the dataset\n",
    "X, y = load_dataset(full_path)\n",
    "# summarize the loaded dataset\n",
    "print(X.shape, y.shape, Counter(y))\n",
    "# define the reference model\n",
    "model = DummyClassifier(strategy='constant', constant=1)\n",
    "# evaluate the model\n",
    "scores = evaluate_model(X, y, model)\n",
    "# summarize performance\n",
    "print('Mean F2: %.3f (%.3f)' % (mean(scores), std(scores)))"
   ]
  },
  {
   "cell_type": "markdown",
   "metadata": {},
   "source": [
    "### Evaluate Models"
   ]
  },
  {
   "cell_type": "code",
   "execution_count": 8,
   "metadata": {},
   "outputs": [
    {
     "name": "stdout",
     "output_type": "stream",
     "text": [
      ">LR 0.862 (0.033)\n",
      ">LDA 0.855 (0.032)\n",
      ">NB 0.679 (0.157)\n",
      ">GPC 0.912 (0.014)\n",
      ">SVM 0.885 (0.026)\n"
     ]
    },
    {
     "data": {
      "image/png": "[encoded data removed]",
      "text/plain": [
       "<Figure size 640x480 with 1 Axes>"
      ]
     },
     "metadata": {},
     "output_type": "display_data"
    }
   ],
   "source": [
    "# spot check machine learning algorithms on the german credit dataset\n",
    "from numpy import mean\n",
    "from numpy import std\n",
    "from pandas import read_csv\n",
    "from matplotlib import pyplot\n",
    "from sklearn.preprocessing import LabelEncoder\n",
    "from sklearn.preprocessing import OneHotEncoder\n",
    "from sklearn.preprocessing import MinMaxScaler\n",
    "from sklearn.pipeline import Pipeline\n",
    "from sklearn.compose import ColumnTransformer\n",
    "from sklearn.model_selection import cross_val_score\n",
    "from sklearn.model_selection import RepeatedStratifiedKFold\n",
    "from sklearn.metrics import fbeta_score\n",
    "from sklearn.metrics import make_scorer\n",
    "from sklearn.linear_model import LogisticRegression\n",
    "from sklearn.discriminant_analysis import LinearDiscriminantAnalysis\n",
    "from sklearn.naive_bayes import GaussianNB\n",
    "from sklearn.gaussian_process import GaussianProcessClassifier\n",
    "from sklearn.svm import SVC\n",
    "\n",
    "\n",
    "# load the dataset\n",
    "def load_dataset(full_path):\n",
    "  # load the dataset as a numpy array\n",
    "  dataframe = read_csv(full_path, header=None)\n",
    "  # split into inputs and outputs\n",
    "  last_ix = len(dataframe.columns) - 1\n",
    "  X, y = dataframe.drop(last_ix, axis=1), dataframe[last_ix]\n",
    "  \n",
    "  # select categorical and numerical features\n",
    "  cat_ix = X.select_dtypes(include=['object', 'bool']).columns \n",
    "  num_ix = X.select_dtypes(include=['int64', 'float64']).columns # label encode the target variable to have the classes 0 and 1 y = LabelEncoder().fit_transform(y)\n",
    "  return X.values, y, cat_ix, num_ix\n",
    "\n",
    "\n",
    "# calculate f2-measure\n",
    "def f2_measure(y_true, y_pred):\n",
    "  return fbeta_score(y_true, y_pred, beta=2)\n",
    "\n",
    "# evaluate a model\n",
    "def evaluate_model(X, y, model):\n",
    "  # define evaluation procedure\n",
    "  cv = RepeatedStratifiedKFold(n_splits=10, n_repeats=3, random_state=1)\n",
    "  # define the model evaluation metric\n",
    "  metric = make_scorer(f2_measure)\n",
    "  # evaluate model\n",
    "  scores = cross_val_score(model, X, y, scoring=metric, cv=cv, n_jobs=-1)\n",
    "  return scores\n",
    "\n",
    "\n",
    "# define models to test\n",
    "def get_models():\n",
    "  models, names = list(), list()\n",
    "  # LR \n",
    "  models.append(LogisticRegression(solver='liblinear')) \n",
    "  names.append('LR')\n",
    "  # LDA\n",
    "  models.append(LinearDiscriminantAnalysis()) \n",
    "  names.append('LDA')\n",
    "  # NB\n",
    "  models.append(GaussianNB())\n",
    "  names.append('NB')\n",
    "  # GPC\n",
    "  models.append(GaussianProcessClassifier()) \n",
    "  names.append('GPC')\n",
    "  # SVM\n",
    "  models.append(SVC(gamma='scale'))\n",
    "  names.append('SVM')\n",
    "  return models, names\n",
    "\n",
    "# define the location of the dataset\n",
    "full_path = FILE_NAME\n",
    "# load the dataset\n",
    "X, y, cat_ix, num_ix = load_dataset(full_path) # define models\n",
    "models, names = get_models()\n",
    "results = list()\n",
    "# evaluate each model\n",
    "for i in range(len(models)):\n",
    "  # one hot encode categorical, normalize numerical\n",
    "  ct = ColumnTransformer([('c',OneHotEncoder(),cat_ix), ('n',MinMaxScaler(),num_ix)]) # wrap the model in a pipeline\n",
    "  pipeline = Pipeline(steps=[('t',ct),('m',models[i])])\n",
    "  # evaluate the model and store results\n",
    "  scores = evaluate_model(X, y, pipeline)\n",
    "  results.append(scores)\n",
    "  # summarize and store\n",
    "  print('>%s %.3f (%.3f)' % (names[i], mean(scores), std(scores)))\n",
    "\n",
    "\n",
    "# plot the results\n",
    "pyplot.boxplot(results, labels=names, showmeans=True) \n",
    "pyplot.show()"
   ]
  },
  {
   "cell_type": "markdown",
   "metadata": {},
   "source": [
    "### Evaluate Undersampling"
   ]
  },
  {
   "cell_type": "code",
   "execution_count": 9,
   "metadata": {},
   "outputs": [
    {
     "name": "stdout",
     "output_type": "stream",
     "text": [
      ">TL 0.669 (0.057)\n",
      ">ENN 0.706 (0.048)\n",
      ">RENN 0.714 (0.041)\n",
      ">OSS 0.669 (0.056)\n",
      ">NCR 0.693 (0.052)\n"
     ]
    },
    {
     "data": {
      "image/png": "[encoded data removed]",
      "text/plain": [
       "<Figure size 640x480 with 1 Axes>"
      ]
     },
     "metadata": {},
     "output_type": "display_data"
    }
   ],
   "source": [
    "# evaluate undersampling with logistic regression on the imbalanced german credit dataset\n",
    "from numpy import mean\n",
    "from numpy import std\n",
    "from pandas import read_csv\n",
    "from sklearn.preprocessing import LabelEncoder\n",
    "from sklearn.preprocessing import OneHotEncoder\n",
    "from sklearn.preprocessing import MinMaxScaler\n",
    "from sklearn.compose import ColumnTransformer\n",
    "from sklearn.model_selection import cross_val_score\n",
    "from sklearn.model_selection import RepeatedStratifiedKFold\n",
    "from sklearn.metrics import fbeta_score\n",
    "from sklearn.metrics import make_scorer\n",
    "from matplotlib import pyplot\n",
    "from sklearn.linear_model import LogisticRegression\n",
    "from imblearn.pipeline import Pipeline\n",
    "from imblearn.under_sampling import TomekLinks\n",
    "from imblearn.under_sampling import EditedNearestNeighbours\n",
    "from imblearn.under_sampling import RepeatedEditedNearestNeighbours\n",
    "from imblearn.under_sampling import NeighbourhoodCleaningRule\n",
    "from imblearn.under_sampling import OneSidedSelection\n",
    "\n",
    "# load the dataset\n",
    "def load_dataset(full_path):\n",
    "  # load the dataset as a numpy array\n",
    "  dataframe = read_csv(full_path, header=None)\n",
    "  # split into inputs and outputs\n",
    "  last_ix = len(dataframe.columns) - 1\n",
    "  X, y = dataframe.drop(last_ix, axis=1), dataframe[last_ix]\n",
    "  # select categorical and numerical features\n",
    "  cat_ix = X.select_dtypes(include=['object', 'bool']).columns \n",
    "  num_ix = X.select_dtypes(include=['int64', 'float64']).columns # label encode the target variable to have the classes 0 and 1 \n",
    "  y = LabelEncoder().fit_transform(y)\n",
    "  return X.values, y, cat_ix, num_ix\n",
    "\n",
    "# calculate f2-measure\n",
    "def f2_measure(y_true, y_pred):\n",
    "  return fbeta_score(y_true, y_pred, beta=2)\n",
    "# evaluate a model\n",
    "def evaluate_model(X, y, model):\n",
    "  # define evaluation procedure\n",
    "  cv = RepeatedStratifiedKFold(n_splits=10, n_repeats=3, random_state=1)\n",
    "  # define the model evaluation metric\n",
    "  metric = make_scorer(f2_measure)\n",
    "  # evaluate model\n",
    "  scores = cross_val_score(model, X, y, scoring=metric, cv=cv, n_jobs=-1)\n",
    "  return scores\n",
    "\n",
    "# define undersampling models to test\n",
    "def get_models():\n",
    "  models, names = list(), list() \n",
    "  # TL \n",
    "  models.append(TomekLinks()) \n",
    "  names.append('TL')\n",
    "  # ENN\n",
    "  models.append(EditedNearestNeighbours()) \n",
    "  names.append('ENN')\n",
    "  # RENN \n",
    "  models.append(RepeatedEditedNearestNeighbours()) \n",
    "  names.append('RENN')\n",
    "  # OSS\n",
    "  models.append(OneSidedSelection()) \n",
    "  names.append('OSS')\n",
    "  # NCR \n",
    "  models.append(NeighbourhoodCleaningRule()) \n",
    "  names.append('NCR')\n",
    "  return models, names\n",
    "\n",
    "# define the location of the dataset\n",
    "full_path = FILE_NAME\n",
    "# load the dataset\n",
    "X, y, cat_ix, num_ix = load_dataset(full_path) # define models\n",
    "models, names = get_models()\n",
    "results = list()\n",
    "# evaluate each model\n",
    "for i in range(len(models)):\n",
    "  # define model to evaluate\n",
    "  model = LogisticRegression(solver='liblinear', class_weight='balanced')\n",
    "  # one hot encode categorical, normalize numerical\n",
    "  ct = ColumnTransformer([('c',OneHotEncoder(),cat_ix), ('n',MinMaxScaler(),num_ix)]) # scale, then undersample, then fit model\n",
    "  pipeline = Pipeline(steps=[('t',ct), ('s', models[i]), ('m',model)])\n",
    "  # evaluate the model and store results\n",
    "  scores = evaluate_model(X, y, pipeline)\n",
    "  results.append(scores)\n",
    "  # summarize and store\n",
    "  print('>%s %.3f (%.3f)' % (names[i], mean(scores), std(scores)))\n",
    "  # plot the results\n",
    "pyplot.boxplot(results, labels=names, showmeans=True)\n",
    "pyplot.show()"
   ]
  },
  {
   "cell_type": "code",
   "execution_count": null,
   "metadata": {},
   "outputs": [],
   "source": []
  }
 ],
 "metadata": {
  "kernelspec": {
   "display_name": "machine-learning-env",
   "language": "python",
   "name": "python3"
  },
  "language_info": {
   "codemirror_mode": {
    "name": "ipython",
    "version": 3
   },
   "file_extension": ".py",
   "mimetype": "text/x-python",
   "name": "python",
   "nbconvert_exporter": "python",
   "pygments_lexer": "ipython3",
   "version": "3.8.15"
  }
 },
 "nbformat": 4,
 "nbformat_minor": 2
}
