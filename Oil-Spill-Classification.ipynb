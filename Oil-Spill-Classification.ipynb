{
 "cells": [
  {
   "cell_type": "markdown",
   "metadata": {},
   "source": [
    "# Project: Oil Spill Classification"
   ]
  },
  {
   "cell_type": "code",
   "execution_count": 2,
   "metadata": {},
   "outputs": [],
   "source": [
    "PATH = \"data/\"\n",
    "FILE_NAME = \"oil_spill.csv\""
   ]
  },
  {
   "cell_type": "code",
   "execution_count": 4,
   "metadata": {},
   "outputs": [
    {
     "name": "stdout",
     "output_type": "stream",
     "text": [
      "(937, 50)\n",
      "Class=1, Count=41, Percentage=4.376%\n",
      "Class=0, Count=896, Percentage=95.624%\n"
     ]
    }
   ],
   "source": [
    "\n",
    "# load and summarize the dataset\n",
    "from pandas import read_csv\n",
    "from collections import Counter\n",
    "# define the dataset location\n",
    "filename = PATH + FILE_NAME\n",
    "# load the csv file as a data frame \n",
    "dataframe = read_csv(filename, header=None) \n",
    "# summarize the shape of the dataset\n",
    "print(dataframe.shape)\n",
    "# summarize the class distribution\n",
    "target = dataframe.values[:,-1]\n",
    "counter = Counter(target)\n",
    "for k,v in counter.items():\n",
    "  per = v / len(target) * 100\n",
    "  print('Class=%d, Count=%d, Percentage=%.3f%%' % (k, v, per))"
   ]
  },
  {
   "cell_type": "code",
   "execution_count": 5,
   "metadata": {},
   "outputs": [
    {
     "data": {
      "image/png": "[encoded data removed]",
      "text/plain": [
       "<Figure size 640x480 with 56 Axes>"
      ]
     },
     "metadata": {},
     "output_type": "display_data"
    }
   ],
   "source": [
    "# create histograms of each variable\n",
    "from pandas import read_csv\n",
    "from matplotlib import pyplot\n",
    "# define the dataset location\n",
    "filename = PATH + FILE_NAME\n",
    "# load the csv file as a data frame \n",
    "dataframe = read_csv(filename, header=None) \n",
    "# create a histogram plot of each variable \n",
    "ax = dataframe.hist()\n",
    "# disable axis labels\n",
    "for axis in ax.flatten():\n",
    "  axis.set_title('') \n",
    "  axis.set_xticklabels([]) \n",
    "  axis.set_yticklabels([])\n",
    "pyplot.show()\n"
   ]
  },
  {
   "cell_type": "markdown",
   "metadata": {},
   "source": [
    "## Model Test and Baseline Result"
   ]
  },
  {
   "cell_type": "code",
   "execution_count": 6,
   "metadata": {},
   "outputs": [
    {
     "name": "stdout",
     "output_type": "stream",
     "text": [
      "(937, 47) (937,) Counter({0: 896, 1: 41})\n",
      "Mean G-Mean: 0.479 (0.129)\n"
     ]
    }
   ],
   "source": [
    "# test harness and baseline model evaluation\n",
    "from collections import Counter\n",
    "from numpy import mean\n",
    "from numpy import std\n",
    "from pandas import read_csv\n",
    "from sklearn.preprocessing import LabelEncoder\n",
    "from sklearn.model_selection import cross_val_score\n",
    "from sklearn.model_selection import RepeatedStratifiedKFold\n",
    "from imblearn.metrics import geometric_mean_score\n",
    "from sklearn.metrics import make_scorer\n",
    "from sklearn.dummy import DummyClassifier\n",
    "# load the dataset\n",
    "def load_dataset(full_path):\n",
    "  # load the dataset as a numpy array\n",
    "  data = read_csv(full_path, header=None)\n",
    "  # drop unused columns\n",
    "  data.drop(22, axis=1, inplace=True)\n",
    "  data.drop(0, axis=1, inplace=True)\n",
    "  # retrieve numpy array\n",
    "  data = data.values\n",
    "  # split into input and output elements\n",
    "  X, y = data[:, :-1], data[:, -1]\n",
    "  # label encode the target variable to have the classes 0 and 1\n",
    "  y = LabelEncoder().fit_transform(y)\n",
    "  return X, y\n",
    "# evaluate a model\n",
    "def evaluate_model(X, y, model):\n",
    "  # define evaluation procedure\n",
    "  cv = RepeatedStratifiedKFold(n_splits=10, n_repeats=3, random_state=1)\n",
    "  # define the model evaluation the metric\n",
    "  metric = make_scorer(geometric_mean_score)\n",
    "  # evaluate model\n",
    "  scores = cross_val_score(model, X, y, scoring=metric, cv=cv, n_jobs=-1)\n",
    "  return scores\n",
    "\n",
    "# define the location of the dataset\n",
    "full_path = PATH + FILE_NAME\n",
    "# load the dataset\n",
    "X, y = load_dataset(full_path)\n",
    "# summarize the loaded dataset\n",
    "print(X.shape, y.shape, Counter(y))\n",
    "# define the reference model\n",
    "model = DummyClassifier(strategy='uniform')\n",
    "# evaluate the model\n",
    "scores = evaluate_model(X, y, model)\n",
    "# summarize performance\n",
    "print('Mean G-Mean: %.3f (%.3f)' % (mean(scores), std(scores)))"
   ]
  },
  {
   "cell_type": "markdown",
   "metadata": {},
   "source": [
    "## Evaluate Models"
   ]
  },
  {
   "cell_type": "code",
   "execution_count": 7,
   "metadata": {},
   "outputs": [
    {
     "name": "stdout",
     "output_type": "stream",
     "text": [
      ">LR 0.672 (0.203)\n",
      ">LDA 0.755 (0.147)\n",
      ">NB 0.707 (0.202)\n"
     ]
    },
    {
     "data": {
      "image/png": "[encoded data removed]",
      "text/plain": [
       "<Figure size 640x480 with 1 Axes>"
      ]
     },
     "metadata": {},
     "output_type": "display_data"
    }
   ],
   "source": [
    "\n",
    "# compare probabilistic model on the oil spill dataset\n",
    "from numpy import mean\n",
    "from numpy import std\n",
    "from pandas import read_csv\n",
    "from matplotlib import pyplot\n",
    "from sklearn.preprocessing import LabelEncoder\n",
    "from sklearn.model_selection import cross_val_score\n",
    "from sklearn.model_selection import RepeatedStratifiedKFold\n",
    "from sklearn.metrics import make_scorer\n",
    "from sklearn.linear_model import LogisticRegression\n",
    "from sklearn.discriminant_analysis import LinearDiscriminantAnalysis\n",
    "from sklearn.naive_bayes import GaussianNB\n",
    "from imblearn.metrics import geometric_mean_score\n",
    "from sklearn.pipeline import Pipeline\n",
    "from sklearn.preprocessing import StandardScaler\n",
    "# load the dataset\n",
    "def load_dataset(full_path):\n",
    "  # load the dataset as a numpy array\n",
    "  data = read_csv(full_path, header=None)\n",
    "  # drop unused columns\n",
    "  data.drop(22, axis=1, inplace=True)\n",
    "  data.drop(0, axis=1, inplace=True)\n",
    "  # retrieve numpy array\n",
    "  data = data.values\n",
    "  # split into input and output elements\n",
    "  X, y = data[:, :-1], data[:, -1]\n",
    "  # label encode the target variable to have the classes 0 and 1\n",
    "  y = LabelEncoder().fit_transform(y)\n",
    "  return X, y\n",
    "# evaluate a model\n",
    "def evaluate_model(X, y, model):\n",
    "  # define evaluation procedure\n",
    "  cv = RepeatedStratifiedKFold(n_splits=10, n_repeats=3, random_state=1)\n",
    "  # define the model evaluation the metric\n",
    "  metric = make_scorer(geometric_mean_score)\n",
    "  # evaluate model\n",
    "  scores = cross_val_score(model, X, y, scoring=metric, cv=cv, n_jobs=-1)\n",
    "  return scores\n",
    "\n",
    "# define models to test\n",
    "def get_models():\n",
    "  models, names = list(), list()\n",
    "  # LR\n",
    "  steps = [('t',StandardScaler()),('m',LogisticRegression(solver='liblinear'))] \n",
    "  models.append(Pipeline(steps=steps))\n",
    "  names.append('LR')\n",
    "  # LDA\n",
    "  steps = [('t', StandardScaler()),('m',LinearDiscriminantAnalysis())] \n",
    "  models.append(Pipeline(steps=steps))\n",
    "  names.append('LDA')\n",
    "  # NB\n",
    "  models.append(GaussianNB())\n",
    "  names.append('NB')\n",
    "  return models, names\n",
    "# define the location of the dataset\n",
    "full_path = PATH + FILE_NAME\n",
    "# load the dataset\n",
    "X, y = load_dataset(full_path) # define models\n",
    "models, names = get_models()\n",
    "# evaluate each model\n",
    "results = list()\n",
    "for i in range(len(models)):\n",
    "    # evaluate the model and store results\n",
    "  scores = evaluate_model(X, y, models[i])\n",
    "  results.append(scores)\n",
    "  # summarize and store\n",
    "  print('>%s %.3f (%.3f)' % (names[i], mean(scores), std(scores)))\n",
    "# plot the results\n",
    "pyplot.boxplot(results, labels=names, showmeans=True)\n",
    "pyplot.show()\n"
   ]
  },
  {
   "cell_type": "markdown",
   "metadata": {},
   "source": [
    "## Evaluate Balanced Logistic Regression"
   ]
  },
  {
   "cell_type": "code",
   "execution_count": 8,
   "metadata": {},
   "outputs": [
    {
     "name": "stderr",
     "output_type": "stream",
     "text": [
      "/Users/test/miniforge3/envs/machine-learning-env/lib/python3.8/site-packages/sklearn/svm/_base.py:1242: ConvergenceWarning: Liblinear failed to converge, increase the number of iterations.\n",
      "  warnings.warn(\n",
      "/Users/test/miniforge3/envs/machine-learning-env/lib/python3.8/site-packages/sklearn/svm/_base.py:1242: ConvergenceWarning: Liblinear failed to converge, increase the number of iterations.\n",
      "  warnings.warn(\n",
      "/Users/test/miniforge3/envs/machine-learning-env/lib/python3.8/site-packages/sklearn/svm/_base.py:1242: ConvergenceWarning: Liblinear failed to converge, increase the number of iterations.\n",
      "  warnings.warn(\n",
      "/Users/test/miniforge3/envs/machine-learning-env/lib/python3.8/site-packages/sklearn/svm/_base.py:1242: ConvergenceWarning: Liblinear failed to converge, increase the number of iterations.\n",
      "  warnings.warn(\n",
      "/Users/test/miniforge3/envs/machine-learning-env/lib/python3.8/site-packages/sklearn/svm/_base.py:1242: ConvergenceWarning: Liblinear failed to converge, increase the number of iterations.\n",
      "  warnings.warn(\n",
      "/Users/test/miniforge3/envs/machine-learning-env/lib/python3.8/site-packages/sklearn/svm/_base.py:1242: ConvergenceWarning: Liblinear failed to converge, increase the number of iterations.\n",
      "  warnings.warn(\n",
      "/Users/test/miniforge3/envs/machine-learning-env/lib/python3.8/site-packages/sklearn/svm/_base.py:1242: ConvergenceWarning: Liblinear failed to converge, increase the number of iterations.\n",
      "  warnings.warn(\n",
      "/Users/test/miniforge3/envs/machine-learning-env/lib/python3.8/site-packages/sklearn/svm/_base.py:1242: ConvergenceWarning: Liblinear failed to converge, increase the number of iterations.\n",
      "  warnings.warn(\n",
      "/Users/test/miniforge3/envs/machine-learning-env/lib/python3.8/site-packages/sklearn/svm/_base.py:1242: ConvergenceWarning: Liblinear failed to converge, increase the number of iterations.\n",
      "  warnings.warn(\n",
      "/Users/test/miniforge3/envs/machine-learning-env/lib/python3.8/site-packages/sklearn/svm/_base.py:1242: ConvergenceWarning: Liblinear failed to converge, increase the number of iterations.\n",
      "  warnings.warn(\n",
      "/Users/test/miniforge3/envs/machine-learning-env/lib/python3.8/site-packages/sklearn/svm/_base.py:1242: ConvergenceWarning: Liblinear failed to converge, increase the number of iterations.\n",
      "  warnings.warn(\n",
      "/Users/test/miniforge3/envs/machine-learning-env/lib/python3.8/site-packages/sklearn/svm/_base.py:1242: ConvergenceWarning: Liblinear failed to converge, increase the number of iterations.\n",
      "  warnings.warn(\n",
      "/Users/test/miniforge3/envs/machine-learning-env/lib/python3.8/site-packages/sklearn/svm/_base.py:1242: ConvergenceWarning: Liblinear failed to converge, increase the number of iterations.\n",
      "  warnings.warn(\n",
      "/Users/test/miniforge3/envs/machine-learning-env/lib/python3.8/site-packages/sklearn/svm/_base.py:1242: ConvergenceWarning: Liblinear failed to converge, increase the number of iterations.\n",
      "  warnings.warn(\n",
      "/Users/test/miniforge3/envs/machine-learning-env/lib/python3.8/site-packages/sklearn/svm/_base.py:1242: ConvergenceWarning: Liblinear failed to converge, increase the number of iterations.\n",
      "  warnings.warn(\n"
     ]
    },
    {
     "name": "stdout",
     "output_type": "stream",
     "text": [
      ">Balanced 0.845 (0.124)\n",
      ">Balanced-Norm 0.836 (0.088)\n",
      ">Balanced-Std 0.834 (0.129)\n",
      ">Balanced-Power 0.862 (0.124)\n"
     ]
    },
    {
     "data": {
      "image/png": "[encoded data removed]",
      "text/plain": [
       "<Figure size 640x480 with 1 Axes>"
      ]
     },
     "metadata": {},
     "output_type": "display_data"
    }
   ],
   "source": [
    "# compare balanced logistic regression on the oil spill dataset\n",
    "from numpy import mean\n",
    "from numpy import std\n",
    "from pandas import read_csv\n",
    "from matplotlib import pyplot\n",
    "from sklearn.preprocessing import LabelEncoder\n",
    "from sklearn.model_selection import cross_val_score\n",
    "from sklearn.model_selection import RepeatedStratifiedKFold\n",
    "from sklearn.metrics import make_scorer\n",
    "from sklearn.linear_model import LogisticRegression\n",
    "from imblearn.metrics import geometric_mean_score\n",
    "from sklearn.pipeline import Pipeline\n",
    "from sklearn.preprocessing import StandardScaler\n",
    "from sklearn.preprocessing import MinMaxScaler\n",
    "from sklearn.preprocessing import PowerTransformer\n",
    "\n",
    "def load_dataset(full_path):\n",
    "  # load the dataset as a numpy array\n",
    "  data = read_csv(full_path, header=None)\n",
    "  # drop unused columns\n",
    "  data.drop(22, axis=1, inplace=True)\n",
    "  data.drop(0, axis=1, inplace=True)\n",
    "  # retrieve numpy array\n",
    "  data = data.values\n",
    "  # split into input and output elements\n",
    "  X, y = data[:, :-1], data[:, -1]\n",
    "  # label encode the target variable to have the classes 0 and 1\n",
    "  y = LabelEncoder().fit_transform(y)\n",
    "  return X, y\n",
    "\n",
    "# evaluate a model\n",
    "def evaluate_model(X, y, model):\n",
    "  # define evaluation procedure\n",
    "  cv = RepeatedStratifiedKFold(n_splits=10, n_repeats=3, random_state=1)\n",
    "  # define the model evaluation the metric\n",
    "  metric = make_scorer(geometric_mean_score)\n",
    "  # evaluate model\n",
    "  scores = cross_val_score(model, X, y, scoring=metric, cv=cv, n_jobs=-1)\n",
    "  return scores\n",
    "\n",
    "# define models to test\n",
    "def get_models():\n",
    "  models, names = list(), list()\n",
    "  # LR Balanced\n",
    "  models.append(LogisticRegression(solver='liblinear', class_weight='balanced')) \n",
    "  names.append('Balanced')\n",
    "  # LR Balanced + Normalization\n",
    "  steps = [('t',MinMaxScaler()), ('m', LogisticRegression(solver='liblinear',\n",
    "  class_weight='balanced'))]\n",
    "  models.append(Pipeline(steps=steps))\n",
    "  names.append('Balanced-Norm')\n",
    "  # LR Balanced + Standardization\n",
    "  steps = [('t',StandardScaler()), ('m', LogisticRegression(solver='liblinear',\n",
    "  class_weight='balanced'))] \n",
    "  models.append(Pipeline(steps=steps)) \n",
    "  names.append('Balanced-Std')\n",
    "  # LR Balanced + Power\n",
    "  steps = [('t1',MinMaxScaler()), ('t2',PowerTransformer()), ('m', LogisticRegression(solver='liblinear', class_weight='balanced'))]\n",
    "  models.append(Pipeline(steps=steps)) \n",
    "  names.append('Balanced-Power') \n",
    "  return models, names\n",
    "\n",
    "# define the location of the dataset\n",
    "full_path =  PATH + FILE_NAME\n",
    "# load the dataset\n",
    "X, y = load_dataset(full_path) # define models\n",
    "models, names = get_models()\n",
    "# evaluate each model\n",
    "results = list()\n",
    "\n",
    "for i in range(len(models)):\n",
    "  # evaluate the model and store results\n",
    "  scores = evaluate_model(X, y, models[i])\n",
    "  results.append(scores)\n",
    "  # summarize and store\n",
    "  print('>%s %.3f (%.3f)' % (names[i], mean(scores), std(scores)))\n",
    "# plot the results\n",
    "pyplot.boxplot(results, labels=names, showmeans=True)\n",
    "pyplot.show()"
   ]
  }
 ],
 "metadata": {
  "kernelspec": {
   "display_name": "machine-learning-env",
   "language": "python",
   "name": "python3"
  },
  "language_info": {
   "codemirror_mode": {
    "name": "ipython",
    "version": 3
   },
   "file_extension": ".py",
   "mimetype": "text/x-python",
   "name": "python",
   "nbconvert_exporter": "python",
   "pygments_lexer": "ipython3",
   "version": "3.8.15"
  }
 },
 "nbformat": 4,
 "nbformat_minor": 2
}
