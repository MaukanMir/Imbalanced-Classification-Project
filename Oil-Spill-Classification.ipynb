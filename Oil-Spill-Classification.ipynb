{
 "cells": [
  {
   "cell_type": "markdown",
   "metadata": {},
   "source": [
    "# Project: Oil Spill Classification"
   ]
  },
  {
   "cell_type": "code",
   "execution_count": 2,
   "metadata": {},
   "outputs": [],
   "source": [
    "PATH = \"data/\"\n",
    "FILE_NAME = \"oil_spill.csv\""
   ]
  },
  {
   "cell_type": "code",
   "execution_count": 4,
   "metadata": {},
   "outputs": [
    {
     "name": "stdout",
     "output_type": "stream",
     "text": [
      "(937, 50)\n",
      "Class=1, Count=41, Percentage=4.376%\n",
      "Class=0, Count=896, Percentage=95.624%\n"
     ]
    }
   ],
   "source": [
    "\n",
    "# load and summarize the dataset\n",
    "from pandas import read_csv\n",
    "from collections import Counter\n",
    "# define the dataset location\n",
    "filename = PATH + FILE_NAME\n",
    "# load the csv file as a data frame \n",
    "dataframe = read_csv(filename, header=None) \n",
    "# summarize the shape of the dataset\n",
    "print(dataframe.shape)\n",
    "# summarize the class distribution\n",
    "target = dataframe.values[:,-1]\n",
    "counter = Counter(target)\n",
    "for k,v in counter.items():\n",
    "  per = v / len(target) * 100\n",
    "  print('Class=%d, Count=%d, Percentage=%.3f%%' % (k, v, per))"
   ]
  },
  {
   "cell_type": "code",
   "execution_count": 5,
   "metadata": {},
   "outputs": [
    {
     "data": {
      "image/png": "[encoded data removed]",
      "text/plain": [
       "<Figure size 640x480 with 56 Axes>"
      ]
     },
     "metadata": {},
     "output_type": "display_data"
    }
   ],
   "source": [
    "# create histograms of each variable\n",
    "from pandas import read_csv\n",
    "from matplotlib import pyplot\n",
    "# define the dataset location\n",
    "filename = PATH + FILE_NAME\n",
    "# load the csv file as a data frame \n",
    "dataframe = read_csv(filename, header=None) \n",
    "# create a histogram plot of each variable \n",
    "ax = dataframe.hist()\n",
    "# disable axis labels\n",
    "for axis in ax.flatten():\n",
    "  axis.set_title('') \n",
    "  axis.set_xticklabels([]) \n",
    "  axis.set_yticklabels([])\n",
    "pyplot.show()\n"
   ]
  },
  {
   "cell_type": "markdown",
   "metadata": {},
   "source": [
    "## Model Test and Baseline Result"
   ]
  },
  {
   "cell_type": "code",
   "execution_count": 6,
   "metadata": {},
   "outputs": [
    {
     "name": "stdout",
     "output_type": "stream",
     "text": [
      "(937, 47) (937,) Counter({0: 896, 1: 41})\n",
      "Mean G-Mean: 0.479 (0.129)\n"
     ]
    }
   ],
   "source": [
    "# test harness and baseline model evaluation\n",
    "from collections import Counter\n",
    "from numpy import mean\n",
    "from numpy import std\n",
    "from pandas import read_csv\n",
    "from sklearn.preprocessing import LabelEncoder\n",
    "from sklearn.model_selection import cross_val_score\n",
    "from sklearn.model_selection import RepeatedStratifiedKFold\n",
    "from imblearn.metrics import geometric_mean_score\n",
    "from sklearn.metrics import make_scorer\n",
    "from sklearn.dummy import DummyClassifier\n",
    "# load the dataset\n",
    "def load_dataset(full_path):\n",
    "  # load the dataset as a numpy array\n",
    "  data = read_csv(full_path, header=None)\n",
    "  # drop unused columns\n",
    "  data.drop(22, axis=1, inplace=True)\n",
    "  data.drop(0, axis=1, inplace=True)\n",
    "  # retrieve numpy array\n",
    "  data = data.values\n",
    "  # split into input and output elements\n",
    "  X, y = data[:, :-1], data[:, -1]\n",
    "  # label encode the target variable to have the classes 0 and 1\n",
    "  y = LabelEncoder().fit_transform(y)\n",
    "  return X, y\n",
    "# evaluate a model\n",
    "def evaluate_model(X, y, model):\n",
    "  # define evaluation procedure\n",
    "  cv = RepeatedStratifiedKFold(n_splits=10, n_repeats=3, random_state=1)\n",
    "  # define the model evaluation the metric\n",
    "  metric = make_scorer(geometric_mean_score)\n",
    "  # evaluate model\n",
    "  scores = cross_val_score(model, X, y, scoring=metric, cv=cv, n_jobs=-1)\n",
    "  return scores\n",
    "\n",
    "# define the location of the dataset\n",
    "full_path = PATH + FILE_NAME\n",
    "# load the dataset\n",
    "X, y = load_dataset(full_path)\n",
    "# summarize the loaded dataset\n",
    "print(X.shape, y.shape, Counter(y))\n",
    "# define the reference model\n",
    "model = DummyClassifier(strategy='uniform')\n",
    "# evaluate the model\n",
    "scores = evaluate_model(X, y, model)\n",
    "# summarize performance\n",
    "print('Mean G-Mean: %.3f (%.3f)' % (mean(scores), std(scores)))"
   ]
  },
  {
   "cell_type": "markdown",
   "metadata": {},
   "source": [
    "## Evaluate Models"
   ]
  },
  {
   "cell_type": "code",
   "execution_count": 7,
   "metadata": {},
   "outputs": [
    {
     "name": "stdout",
     "output_type": "stream",
     "text": [
      ">LR 0.672 (0.203)\n",
      ">LDA 0.755 (0.147)\n",
      ">NB 0.707 (0.202)\n"
     ]
    },
    {
     "data": {
      "image/png": "[encoded data removed]",
      "text/plain": [
       "<Figure size 640x480 with 1 Axes>"
      ]
     },
     "metadata": {},
     "output_type": "display_data"
    }
   ],
   "source": [
    "\n",
    "# compare probabilistic model on the oil spill dataset\n",
    "from numpy import mean\n",
    "from numpy import std\n",
    "from pandas import read_csv\n",
    "from matplotlib import pyplot\n",
    "from sklearn.preprocessing import LabelEncoder\n",
    "from sklearn.model_selection import cross_val_score\n",
    "from sklearn.model_selection import RepeatedStratifiedKFold\n",
    "from sklearn.metrics import make_scorer\n",
    "from sklearn.linear_model import LogisticRegression\n",
    "from sklearn.discriminant_analysis import LinearDiscriminantAnalysis\n",
    "from sklearn.naive_bayes import GaussianNB\n",
    "from imblearn.metrics import geometric_mean_score\n",
    "from sklearn.pipeline import Pipeline\n",
    "from sklearn.preprocessing import StandardScaler\n",
    "# load the dataset\n",
    "def load_dataset(full_path):\n",
    "  # load the dataset as a numpy array\n",
    "  data = read_csv(full_path, header=None)\n",
    "  # drop unused columns\n",
    "  data.drop(22, axis=1, inplace=True)\n",
    "  data.drop(0, axis=1, inplace=True)\n",
    "  # retrieve numpy array\n",
    "  data = data.values\n",
    "  # split into input and output elements\n",
    "  X, y = data[:, :-1], data[:, -1]\n",
    "  # label encode the target variable to have the classes 0 and 1\n",
    "  y = LabelEncoder().fit_transform(y)\n",
    "  return X, y\n",
    "# evaluate a model\n",
    "def evaluate_model(X, y, model):\n",
    "  # define evaluation procedure\n",
    "  cv = RepeatedStratifiedKFold(n_splits=10, n_repeats=3, random_state=1)\n",
    "  # define the model evaluation the metric\n",
    "  metric = make_scorer(geometric_mean_score)\n",
    "  # evaluate model\n",
    "  scores = cross_val_score(model, X, y, scoring=metric, cv=cv, n_jobs=-1)\n",
    "  return scores\n",
    "\n",
    "# define models to test\n",
    "def get_models():\n",
    "  models, names = list(), list()\n",
    "  # LR\n",
    "  steps = [('t',StandardScaler()),('m',LogisticRegression(solver='liblinear'))] \n",
    "  models.append(Pipeline(steps=steps))\n",
    "  names.append('LR')\n",
    "  # LDA\n",
    "  steps = [('t', StandardScaler()),('m',LinearDiscriminantAnalysis())] \n",
    "  models.append(Pipeline(steps=steps))\n",
    "  names.append('LDA')\n",
    "  # NB\n",
    "  models.append(GaussianNB())\n",
    "  names.append('NB')\n",
    "  return models, names\n",
    "# define the location of the dataset\n",
    "full_path = PATH + FILE_NAME\n",
    "# load the dataset\n",
    "X, y = load_dataset(full_path) # define models\n",
    "models, names = get_models()\n",
    "# evaluate each model\n",
    "results = list()\n",
    "for i in range(len(models)):\n",
    "    # evaluate the model and store results\n",
    "  scores = evaluate_model(X, y, models[i])\n",
    "  results.append(scores)\n",
    "  # summarize and store\n",
    "  print('>%s %.3f (%.3f)' % (names[i], mean(scores), std(scores)))\n",
    "# plot the results\n",
    "pyplot.boxplot(results, labels=names, showmeans=True)\n",
    "pyplot.show()\n"
   ]
  },
  {
   "cell_type": "markdown",
   "metadata": {},
   "source": [
    "## Evaluate Balanced Logistic Regression"
   ]
  },
  {
   "cell_type": "code",
   "execution_count": 10,
   "metadata": {},
   "outputs": [
    {
     "name": "stderr",
     "output_type": "stream",
     "text": [
      "/Users/test/miniforge3/envs/machine-learning-env/lib/python3.8/site-packages/sklearn/svm/_base.py:1242: ConvergenceWarning: Liblinear failed to converge, increase the number of iterations.\n",
      "  warnings.warn(\n",
      "/Users/test/miniforge3/envs/machine-learning-env/lib/python3.8/site-packages/sklearn/svm/_base.py:1242: ConvergenceWarning: Liblinear failed to converge, increase the number of iterations.\n",
      "  warnings.warn(\n",
      "/Users/test/miniforge3/envs/machine-learning-env/lib/python3.8/site-packages/sklearn/svm/_base.py:1242: ConvergenceWarning: Liblinear failed to converge, increase the number of iterations.\n",
      "  warnings.warn(\n",
      "/Users/test/miniforge3/envs/machine-learning-env/lib/python3.8/site-packages/sklearn/svm/_base.py:1242: ConvergenceWarning: Liblinear failed to converge, increase the number of iterations.\n",
      "  warnings.warn(\n",
      "/Users/test/miniforge3/envs/machine-learning-env/lib/python3.8/site-packages/sklearn/svm/_base.py:1242: ConvergenceWarning: Liblinear failed to converge, increase the number of iterations.\n",
      "  warnings.warn(\n",
      "/Users/test/miniforge3/envs/machine-learning-env/lib/python3.8/site-packages/sklearn/svm/_base.py:1242: ConvergenceWarning: Liblinear failed to converge, increase the number of iterations.\n",
      "  warnings.warn(\n",
      "/Users/test/miniforge3/envs/machine-learning-env/lib/python3.8/site-packages/sklearn/svm/_base.py:1242: ConvergenceWarning: Liblinear failed to converge, increase the number of iterations.\n",
      "  warnings.warn(\n",
      "/Users/test/miniforge3/envs/machine-learning-env/lib/python3.8/site-packages/sklearn/svm/_base.py:1242: ConvergenceWarning: Liblinear failed to converge, increase the number of iterations.\n",
      "  warnings.warn(\n",
      "/Users/test/miniforge3/envs/machine-learning-env/lib/python3.8/site-packages/sklearn/svm/_base.py:1242: ConvergenceWarning: Liblinear failed to converge, increase the number of iterations.\n",
      "  warnings.warn(\n",
      "/Users/test/miniforge3/envs/machine-learning-env/lib/python3.8/site-packages/sklearn/svm/_base.py:1242: ConvergenceWarning: Liblinear failed to converge, increase the number of iterations.\n",
      "  warnings.warn(\n",
      "/Users/test/miniforge3/envs/machine-learning-env/lib/python3.8/site-packages/sklearn/svm/_base.py:1242: ConvergenceWarning: Liblinear failed to converge, increase the number of iterations.\n",
      "  warnings.warn(\n",
      "/Users/test/miniforge3/envs/machine-learning-env/lib/python3.8/site-packages/sklearn/svm/_base.py:1242: ConvergenceWarning: Liblinear failed to converge, increase the number of iterations.\n",
      "  warnings.warn(\n",
      "/Users/test/miniforge3/envs/machine-learning-env/lib/python3.8/site-packages/sklearn/svm/_base.py:1242: ConvergenceWarning: Liblinear failed to converge, increase the number of iterations.\n",
      "  warnings.warn(\n",
      "/Users/test/miniforge3/envs/machine-learning-env/lib/python3.8/site-packages/sklearn/svm/_base.py:1242: ConvergenceWarning: Liblinear failed to converge, increase the number of iterations.\n",
      "  warnings.warn(\n",
      "/Users/test/miniforge3/envs/machine-learning-env/lib/python3.8/site-packages/sklearn/svm/_base.py:1242: ConvergenceWarning: Liblinear failed to converge, increase the number of iterations.\n",
      "  warnings.warn(\n"
     ]
    },
    {
     "name": "stdout",
     "output_type": "stream",
     "text": [
      ">Balanced 0.845 (0.124)\n",
      ">Balanced-Norm 0.836 (0.088)\n",
      ">Balanced-Std 0.834 (0.129)\n",
      ">Balanced-Power 0.862 (0.124)\n"
     ]
    },
    {
     "data": {
      "image/png": "[encoded data removed]",
      "text/plain": [
       "<Figure size 640x480 with 1 Axes>"
      ]
     },
     "metadata": {},
     "output_type": "display_data"
    }
   ],
   "source": [
    "# compare balanced logistic regression on the oil spill dataset\n",
    "from numpy import mean\n",
    "from numpy import std\n",
    "from pandas import read_csv\n",
    "from matplotlib import pyplot\n",
    "from sklearn.preprocessing import LabelEncoder\n",
    "from sklearn.model_selection import cross_val_score\n",
    "from sklearn.model_selection import RepeatedStratifiedKFold\n",
    "from sklearn.metrics import make_scorer\n",
    "from sklearn.linear_model import LogisticRegression\n",
    "from imblearn.metrics import geometric_mean_score\n",
    "from sklearn.pipeline import Pipeline\n",
    "from sklearn.preprocessing import StandardScaler\n",
    "from sklearn.preprocessing import MinMaxScaler\n",
    "from sklearn.preprocessing import PowerTransformer\n",
    "\n",
    "def load_dataset(full_path):\n",
    "  # load the dataset as a numpy array\n",
    "  data = read_csv(full_path, header=None)\n",
    "  # drop unused columns\n",
    "  data.drop(22, axis=1, inplace=True)\n",
    "  data.drop(0, axis=1, inplace=True)\n",
    "  # retrieve numpy array\n",
    "  data = data.values\n",
    "  # split into input and output elements\n",
    "  X, y = data[:, :-1], data[:, -1]\n",
    "  # label encode the target variable to have the classes 0 and 1\n",
    "  y = LabelEncoder().fit_transform(y)\n",
    "  return X, y\n",
    "\n",
    "# evaluate a model\n",
    "def evaluate_model(X, y, model):\n",
    "  # define evaluation procedure\n",
    "  cv = RepeatedStratifiedKFold(n_splits=10, n_repeats=3, random_state=1)\n",
    "  # define the model evaluation the metric\n",
    "  metric = make_scorer(geometric_mean_score)\n",
    "  # evaluate model\n",
    "  scores = cross_val_score(model, X, y, scoring=metric, cv=cv, n_jobs=-1)\n",
    "  return scores\n",
    "\n",
    "# define models to test\n",
    "def get_models():\n",
    "  models, names = list(), list()\n",
    "  # LR Balanced\n",
    "  models.append(LogisticRegression(solver='liblinear', class_weight='balanced')) \n",
    "  names.append('Balanced')\n",
    "  # LR Balanced + Normalization\n",
    "  steps = [('t',MinMaxScaler()), ('m', LogisticRegression(solver='liblinear',\n",
    "  class_weight='balanced'))]\n",
    "  models.append(Pipeline(steps=steps))\n",
    "  names.append('Balanced-Norm')\n",
    "  # LR Balanced + Standardization\n",
    "  steps = [('t',StandardScaler()), ('m', LogisticRegression(solver='liblinear',\n",
    "  class_weight='balanced'))] \n",
    "  models.append(Pipeline(steps=steps)) \n",
    "  names.append('Balanced-Std')\n",
    "  # LR Balanced + Power\n",
    "  steps = [('t1',MinMaxScaler()), ('t2',PowerTransformer()), ('m', LogisticRegression(solver='liblinear', class_weight='balanced'))]\n",
    "  models.append(Pipeline(steps=steps)) \n",
    "  names.append('Balanced-Power') \n",
    "  return models, names\n",
    "\n",
    "# define the location of the dataset\n",
    "full_path =  PATH + FILE_NAME\n",
    "# load the dataset\n",
    "X, y = load_dataset(full_path) # define models\n",
    "models, names = get_models()\n",
    "# evaluate each model\n",
    "results = list()\n",
    "\n",
    "for i in range(len(models)):\n",
    "  # evaluate the model and store results\n",
    "  scores = evaluate_model(X, y, models[i])\n",
    "  results.append(scores)\n",
    "  # summarize and store\n",
    "  print('>%s %.3f (%.3f)' % (names[i], mean(scores), std(scores)))\n",
    "# plot the results\n",
    "pyplot.boxplot(results, labels=names, showmeans=True)\n",
    "pyplot.show()"
   ]
  },
  {
   "cell_type": "markdown",
   "metadata": {},
   "source": [
    "## Evaluate Data Sampling With Probabilistic Models"
   ]
  },
  {
   "cell_type": "markdown",
   "metadata": {},
   "source": [
    "- **SMOTEENN + LR**\n",
    "- **Normalization + SMOTEENN + LR**\n",
    "- **Standardization + SMOTEENN + LR**\n",
    "- **Normalization + Power + SMOTEENN + LR**\n"
   ]
  },
  {
   "cell_type": "code",
   "execution_count": 11,
   "metadata": {},
   "outputs": [
    {
     "name": "stderr",
     "output_type": "stream",
     "text": [
      "/Users/test/miniforge3/envs/machine-learning-env/lib/python3.8/site-packages/sklearn/svm/_base.py:1242: ConvergenceWarning: Liblinear failed to converge, increase the number of iterations.\n",
      "  warnings.warn(\n",
      "/Users/test/miniforge3/envs/machine-learning-env/lib/python3.8/site-packages/sklearn/svm/_base.py:1242: ConvergenceWarning: Liblinear failed to converge, increase the number of iterations.\n",
      "  warnings.warn(\n",
      "/Users/test/miniforge3/envs/machine-learning-env/lib/python3.8/site-packages/sklearn/svm/_base.py:1242: ConvergenceWarning: Liblinear failed to converge, increase the number of iterations.\n",
      "  warnings.warn(\n",
      "/Users/test/miniforge3/envs/machine-learning-env/lib/python3.8/site-packages/sklearn/svm/_base.py:1242: ConvergenceWarning: Liblinear failed to converge, increase the number of iterations.\n",
      "  warnings.warn(\n",
      "/Users/test/miniforge3/envs/machine-learning-env/lib/python3.8/site-packages/sklearn/svm/_base.py:1242: ConvergenceWarning: Liblinear failed to converge, increase the number of iterations.\n",
      "  warnings.warn(\n"
     ]
    },
    {
     "name": "stdout",
     "output_type": "stream",
     "text": [
      ">LR 0.851 (0.112)\n",
      ">Norm 0.826 (0.105)\n",
      ">Std 0.813 (0.145)\n",
      ">Power 0.878 (0.119)\n"
     ]
    },
    {
     "data": {
      "image/png": "[encoded data removed]",
      "text/plain": [
       "<Figure size 640x480 with 1 Axes>"
      ]
     },
     "metadata": {},
     "output_type": "display_data"
    }
   ],
   "source": [
    "# compare data sampling with logistic regression on the oil spill dataset\n",
    "from numpy import mean\n",
    "from numpy import std\n",
    "from pandas import read_csv\n",
    "from matplotlib import pyplot\n",
    "from sklearn.preprocessing import LabelEncoder\n",
    "from sklearn.model_selection import cross_val_score\n",
    "from sklearn.model_selection import RepeatedStratifiedKFold\n",
    "from sklearn.metrics import make_scorer\n",
    "from sklearn.linear_model import LogisticRegression\n",
    "from imblearn.metrics import geometric_mean_score\n",
    "from sklearn.preprocessing import PowerTransformer\n",
    "from sklearn.preprocessing import StandardScaler\n",
    "from sklearn.preprocessing import MinMaxScaler\n",
    "from imblearn.pipeline import Pipeline\n",
    "from imblearn.combine import SMOTEENN\n",
    "from imblearn.under_sampling import EditedNearestNeighbours\n",
    "\n",
    "# load the dataset\n",
    "def load_dataset(full_path):\n",
    "  # load the dataset as a numpy array\n",
    "  data = read_csv(full_path, header=None)\n",
    "  # drop unused columns\n",
    "  data.drop(22, axis=1, inplace=True)\n",
    "  data.drop(0, axis=1, inplace=True)\n",
    "  # retrieve numpy array\n",
    "  data = data.values\n",
    "  # split into input and output elements\n",
    "  X, y = data[:, :-1], data[:, -1]\n",
    "  # label encode the target variable to have the classes 0 and 1\n",
    "  y = LabelEncoder().fit_transform(y)\n",
    "  return X, y\n",
    "\n",
    "# evaluate a model\n",
    "def evaluate_model(X, y, model):\n",
    "  # define evaluation procedure\n",
    "  cv = RepeatedStratifiedKFold(n_splits=10, n_repeats=3, random_state=1)\n",
    "  # define the model evaluation the metric\n",
    "  metric = make_scorer(geometric_mean_score)\n",
    "  # evaluate model\n",
    "  scores = cross_val_score(model, X, y, scoring=metric, cv=cv, n_jobs=-1)\n",
    "  return scores\n",
    "\n",
    "# define models to test\n",
    "def get_models():\n",
    "  models, names = list(), list()\n",
    "  # SMOTEENN\n",
    "  \n",
    "  sampling = SMOTEENN(enn=EditedNearestNeighbours(sampling_strategy='majority')) \n",
    "  model = LogisticRegression(solver='liblinear')\n",
    "  steps = [('e', sampling), ('m', model)]\n",
    "  models.append(Pipeline(steps=steps))\n",
    "  names.append('LR')\n",
    "  \n",
    "  # SMOTEENN + Norm\n",
    "  sampling = SMOTEENN(enn=EditedNearestNeighbours(sampling_strategy='majority')) \n",
    "  model = LogisticRegression(solver='liblinear')\n",
    "  steps = [('t', MinMaxScaler()), ('e', sampling), ('m', model)] \n",
    "  models.append(Pipeline(steps=steps))\n",
    "  names.append('Norm')\n",
    "  \n",
    "  # SMOTEENN + Std\n",
    "  sampling = SMOTEENN(enn=EditedNearestNeighbours(sampling_strategy='majority')) \n",
    "  model = LogisticRegression(solver='liblinear')\n",
    "  steps = [('t', StandardScaler()), ('e', sampling), ('m', model)] \n",
    "  models.append(Pipeline(steps=steps))\n",
    "  names.append('Std')\n",
    "  \n",
    "  # SMOTEENN + Power\n",
    "  sampling = SMOTEENN(enn=EditedNearestNeighbours(sampling_strategy='majority')) \n",
    "  model = LogisticRegression(solver='liblinear')\n",
    "  steps = [('t1', MinMaxScaler()), ('t2', PowerTransformer()), ('e', sampling), ('m',\n",
    "  model)] \n",
    "  models.append(Pipeline(steps=steps)) \n",
    "  names.append('Power')\n",
    "  return models, names\n",
    "  \n",
    "  \n",
    "# define the location of the dataset\n",
    "full_path = PATH + FILE_NAME\n",
    "# load the dataset\n",
    "X, y = load_dataset(full_path) # define models\n",
    "models, names = get_models()\n",
    "# evaluate each model\n",
    "results = list()\n",
    "for i in range(len(models)):\n",
    "  # evaluate the model and store results\n",
    "  scores = evaluate_model(X, y, models[i])\n",
    "  # summarize and store\n",
    "  print('>%s %.3f (%.3f)' % (names[i], mean(scores), std(scores)))\n",
    "  results.append(scores)\n",
    "# plot the results\n",
    "pyplot.boxplot(results, labels=names, showmeans=True)\n",
    "pyplot.show()"
   ]
  },
  {
   "cell_type": "markdown",
   "metadata": {},
   "source": [
    "## Make Prediction on New Data"
   ]
  },
  {
   "cell_type": "code",
   "execution_count": 13,
   "metadata": {},
   "outputs": [
    {
     "name": "stdout",
     "output_type": "stream",
     "text": [
      "Non-Spill Cases:\n",
      ">Predicted=0 (expected 0)\n",
      ">Predicted=0 (expected 0)\n",
      ">Predicted=0 (expected 0)\n",
      "Spill Cases:\n",
      ">Predicted=1 (expected 1)\n",
      ">Predicted=1 (expected 1)\n",
      ">Predicted=1 (expected 1)\n"
     ]
    }
   ],
   "source": [
    "# fit a model and make predictions for the oil spill dataset\n",
    "from pandas import read_csv\n",
    "from sklearn.preprocessing import LabelEncoder\n",
    "from sklearn.linear_model import LogisticRegression\n",
    "from imblearn.pipeline import Pipeline\n",
    "from imblearn.combine import SMOTEENN\n",
    "from imblearn.under_sampling import EditedNearestNeighbours\n",
    "\n",
    "\n",
    "# load the dataset\n",
    "def load_dataset(full_path):\n",
    "  # load the dataset as a numpy array\n",
    "  data = read_csv(full_path, header=None)\n",
    "  # retrieve numpy array\n",
    "  data = data.values\n",
    "  # split into input and output elements\n",
    "  X, y = data[:, 1:-1], data[:, -1]\n",
    "  # label encode the target variable to have the classes 0 and 1\n",
    "  y = LabelEncoder().fit_transform(y)\n",
    "  return X, y\n",
    "\n",
    "# define the location of the dataset\n",
    "full_path = PATH + FILE_NAME\n",
    "# load the dataset\n",
    "X, y = load_dataset(full_path)\n",
    "# define the model\n",
    "smoteenn = SMOTEENN(enn=EditedNearestNeighbours(sampling_strategy='majority')) \n",
    "model = LogisticRegression(solver='liblinear')\n",
    "pipeline = Pipeline(steps=[('e', smoteenn), ('m', model)])\n",
    "# fit the model\n",
    "pipeline.fit(X, y)\n",
    "\n",
    "# evaluate on some non-spill cases (known class 0)\n",
    "print('Non-Spill Cases:')\n",
    "data = [[329, 1627.54, 1409.43, 51, 822500, 35, 6.1, 4610, 0.17, 178.4, 0.2, 0.24, 0.39,\n",
    "    0.12, 0.27, 138.32, 34.81, 2.02, 0.14, 0.19, 75.26, 0, 0.47, 351.67, 0.18, 9.24, 0.38,\n",
    "    2.57, -2.96, -0.28, 1.93, 0, 1.93, 34, 1710, 0, 25.84, 78, 55, 1460.31, 710.63, 451.78,\n",
    "    150.85, 3.23, 0, 4530.75, 66.25, 7.85],\n",
    "  [3234, 1091.56, 1357.96, 32, 8085000, 40.08, 8.98, 25450, 0.22, 317.7, 0.18, 0.2, 0.49,\n",
    "      0.09, 0.41, 114.69, 41.87, 2.31, 0.15, 0.18, 75.26, 0, 0.53, 351.67, 0.18, 9.24,\n",
    "      0.24, 3.56, -3.09, -0.31, 2.17, 0, 2.17, 281, 14490, 0, 80.11, 78, 55, 4287.77,\n",
    "      3095.56, 1937.42, 773.69, 2.21, 0, 4927.51, 66.15, 7.24],\n",
    "  [2339, 1537.68, 1633.02, 45, 5847500, 38.13, 9.29, 22110, 0.24, 264.5, 0.21, 0.26, 0.79,\n",
    "      0.08, 0.71, 89.49, 32.23, 2.2, 0.17, 0.22, 75.26, 0, 0.51, 351.67, 0.18, 9.24, 0.27,\n",
    "      4.21, -2.84, -0.29, 2.16, 0, 2.16, 228, 12150, 0, 83.6, 78, 55, 3959.8, 2404.16,\n",
    "      1530.38, 659.67, 2.59, 0, 4732.04, 66.34, 7.67]]\n",
    "for row in data:\n",
    "  # make prediction\n",
    "  yhat = pipeline.predict([row])\n",
    "  # get the label\n",
    "  label = yhat[0]\n",
    "  # summarize\n",
    "  print('>Predicted=%d (expected 0)' % (label))\n",
    "  # evaluate on some spill cases (known class 1)\n",
    "print('Spill Cases:')\n",
    "data = [[2971, 1020.91, 630.8, 59, 7427500, 32.76, 10.48, 17380, 0.32, 427.4, 0.22, 0.29,\n",
    "    0.5, 0.08, 0.42, 149.87, 50.99, 1.89, 0.14, 0.18, 75.26, 0, 0.44, 351.67, 0.18, 9.24,\n",
    "    2.5, 10.63, -3.07, -0.28, 2.18, 0, 2.18, 164, 8730, 0, 40.67, 78, 55, 5650.88, 1749.29,\n",
    "    1245.07, 348.7, 4.54, 0, 25579.34, 65.78, 7.41],\n",
    "  [3155, 1118.08, 469.39, 11, 7887500, 30.41, 7.99, 15880, 0.26, 496.7, 0.2, 0.26, 0.69,\n",
    "      0.11, 0.58, 118.11, 43.96, 1.76, 0.15, 0.18, 75.26, 0, 0.4, 351.67, 0.18, 9.24, 0.78,\n",
    "      8.68, -3.19, -0.33, 2.19, 0, 2.19, 150, 8100, 0, 31.97, 78, 55, 3471.31, 3059.41,\n",
    "      2043.9, 477.23, 1.7, 0, 28172.07, 65.72, 7.58],\n",
    "  [115, 1449.85, 608.43, 88, 287500, 40.42, 7.34, 3340, 0.18, 86.1, 0.21, 0.32, 0.5, 0.17,\n",
    "      0.34, 71.2, 16.73, 1.82, 0.19, 0.29, 87.65, 0, 0.46, 132.78, -0.01, 3.78, 0.7, 4.79,\n",
    "      -3.36, -0.23, 1.95, 0, 1.95, 29, 1530, 0.01, 38.8, 89, 69, 1400, 250, 150, 45.13,\n",
    "      9.33, 1, 31692.84, 65.81, 7.84]]\n",
    "for row in data:\n",
    "  # make prediction\n",
    "  yhat = pipeline.predict([row])\n",
    "  # get the label\n",
    "  label = yhat[0]\n",
    "  # summarize\n",
    "  print('>Predicted=%d (expected 1)' % (label))\n"
   ]
  }
 ],
 "metadata": {
  "kernelspec": {
   "display_name": "machine-learning-env",
   "language": "python",
   "name": "python3"
  },
  "language_info": {
   "codemirror_mode": {
    "name": "ipython",
    "version": 3
   },
   "file_extension": ".py",
   "mimetype": "text/x-python",
   "name": "python",
   "nbconvert_exporter": "python",
   "pygments_lexer": "ipython3",
   "version": "3.8.15"
  }
 },
 "nbformat": 4,
 "nbformat_minor": 2
}
