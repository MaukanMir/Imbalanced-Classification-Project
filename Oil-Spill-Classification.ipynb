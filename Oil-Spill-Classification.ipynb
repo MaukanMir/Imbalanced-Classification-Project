{
 "cells": [
  {
   "cell_type": "markdown",
   "metadata": {},
   "source": [
    "# Project: Oil Spill Classification"
   ]
  },
  {
   "cell_type": "code",
   "execution_count": 2,
   "metadata": {},
   "outputs": [],
   "source": [
    "PATH = \"data/\"\n",
    "FILE_NAME = \"oil_spill.csv\""
   ]
  },
  {
   "cell_type": "code",
   "execution_count": 4,
   "metadata": {},
   "outputs": [
    {
     "name": "stdout",
     "output_type": "stream",
     "text": [
      "(937, 50)\n",
      "Class=1, Count=41, Percentage=4.376%\n",
      "Class=0, Count=896, Percentage=95.624%\n"
     ]
    }
   ],
   "source": [
    "\n",
    "# load and summarize the dataset\n",
    "from pandas import read_csv\n",
    "from collections import Counter\n",
    "# define the dataset location\n",
    "filename = PATH + FILE_NAME\n",
    "# load the csv file as a data frame \n",
    "dataframe = read_csv(filename, header=None) \n",
    "# summarize the shape of the dataset\n",
    "print(dataframe.shape)\n",
    "# summarize the class distribution\n",
    "target = dataframe.values[:,-1]\n",
    "counter = Counter(target)\n",
    "for k,v in counter.items():\n",
    "  per = v / len(target) * 100\n",
    "  print('Class=%d, Count=%d, Percentage=%.3f%%' % (k, v, per))"
   ]
  },
  {
   "cell_type": "code",
   "execution_count": null,
   "metadata": {},
   "outputs": [],
   "source": []
  }
 ],
 "metadata": {
  "kernelspec": {
   "display_name": "machine-learning-env",
   "language": "python",
   "name": "python3"
  },
  "language_info": {
   "codemirror_mode": {
    "name": "ipython",
    "version": 3
   },
   "file_extension": ".py",
   "mimetype": "text/x-python",
   "name": "python",
   "nbconvert_exporter": "python",
   "pygments_lexer": "ipython3",
   "version": "3.8.15"
  }
 },
 "nbformat": 4,
 "nbformat_minor": 2
}
