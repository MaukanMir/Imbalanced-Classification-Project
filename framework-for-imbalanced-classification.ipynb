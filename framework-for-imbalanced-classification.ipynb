{
 "cells": [
  {
   "cell_type": "markdown",
   "metadata": {},
   "source": [
    "# Framework for Imbalanced Classification Projects"
   ]
  },
  {
   "cell_type": "markdown",
   "metadata": {},
   "source": [
    "#### The shortest path to a good result on a new classification task is to systematically evaluate a suite of machine learning algorithms in order to discover what works well, then double down on what works well. This approach can also be used for imbalanced classification problems, tailored for the range of data sampling, cost-sensitive, and one-class classification algorithms that one may choose from."
   ]
  },
  {
   "cell_type": "markdown",
   "metadata": {},
   "source": [
    "### 1. Select a Metric\n",
    "### 2. Spot-Check Algorithms\n",
    "### 3. Hyperparameter Tuning"
   ]
  },
  {
   "cell_type": "markdown",
   "metadata": {},
   "source": [
    "### (1) selecting a metric by which to evaluate candidate models\n",
    "### (2) testing a suite of algorithms\n",
    "### (3) tuning the best performing models. This may not be the only approach; it is just the simplest reliable process to get you from I have a new dataset to I have good results very quickly. This process can be summarized as follows"
   ]
  },
  {
   "cell_type": "markdown",
   "metadata": {},
   "source": [
    "### Select a Metric\n",
    "### Spot-Check Algorithms\n",
    "### Spot-Check Imbalanced Algorithms \n",
    "### Hyperparameter Tuning\n"
   ]
  },
  {
   "cell_type": "markdown",
   "metadata": {},
   "source": [
    "#### Are you predicting probabilities? \n",
    "#### – Do you need class labels?\n",
    "#### Is the positive class more important? = Use Precision-Recall AUC\n",
    "#### Are both classes important? = Use ROC AUC\n",
    "#### – Do you need probabilities?\n",
    "#### Use Brier Score and Brier Skill Score"
   ]
  },
  {
   "cell_type": "markdown",
   "metadata": {},
   "source": [
    "Are you predicting class labels? If so, consider the following:\n",
    "- **Is the positive class more important?**\n",
    "  - *If False Negatives and False Positives are equally important*, use the **F1-Measure**.\n",
    "  - *If False Negatives are more important*, use the **F2-measure**.\n",
    "  - *If False Positives are more important*, use the **F0.5-measure**.\n",
    "- **Are both classes important?**\n",
    "  - *If you have less than 80%-90% of examples for the majority class*, **Accuracy** is a suitable metric.\n",
    "  - *If you have more than 80%-90% of examples for the majority class*, the **G-mean** is recommended.\n"
   ]
  }
 ],
 "metadata": {
  "language_info": {
   "name": "python"
  }
 },
 "nbformat": 4,
 "nbformat_minor": 2
}
